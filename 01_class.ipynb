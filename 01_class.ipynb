{
 "cells": [
  {
   "cell_type": "code",
   "execution_count": null,
   "metadata": {},
   "outputs": [],
   "source": [
    "print(\"helloworld\")\n",
    "\n"
   ]
  },
  {
   "cell_type": "markdown",
   "metadata": {},
   "source": [
    "name =\"Ariba\"\n",
    "print(name)\n",
    "print(type(name))\n",
    "print(id(name))  memory address\n"
   ]
  },
  {
   "cell_type": "code",
   "execution_count": 1,
   "metadata": {},
   "outputs": [
    {
     "name": "stdout",
     "output_type": "stream",
     "text": [
      "second\n"
     ]
    }
   ],
   "source": [
    "print(\"second\")"
   ]
  },
  {
   "cell_type": "code",
   "execution_count": 3,
   "metadata": {},
   "outputs": [
    {
     "name": "stdout",
     "output_type": "stream",
     "text": [
      "<class 'int'>\n",
      "140724608426984\n",
      "7\n",
      "<class 'str'>\n",
      "3154046003056\n",
      "Pakistan\n"
     ]
    }
   ],
   "source": [
    "num1:int = 7\n",
    "print(type(num1))\n",
    "print(id(num1))\n",
    "print(num1)\n",
    "\n",
    "\n",
    "name =\"Pakistan\"\n",
    "print(type(name))\n",
    "print(id(name))\n",
    "print(name)"
   ]
  },
  {
   "cell_type": "markdown",
   "metadata": {},
   "source": [
    "num1:bool = True\n",
    "print(type(num1))\n",
    "print(id(num1))\n",
    "print(num1)"
   ]
  },
  {
   "cell_type": "markdown",
   "metadata": {},
   "source": [
    "num1:str= \"Hello \"\n",
    "print(type(num1))\n",
    "print(id(num1))\n",
    "print(num1)"
   ]
  },
  {
   "cell_type": "code",
   "execution_count": 4,
   "metadata": {},
   "outputs": [
    {
     "ename": "KeyboardInterrupt",
     "evalue": "",
     "output_type": "error",
     "traceback": [
      "\u001b[1;31m---------------------------------------------------------------------------\u001b[0m",
      "\u001b[1;31mKeyboardInterrupt\u001b[0m                         Traceback (most recent call last)",
      "\u001b[1;32mc:\\Users\\Fattani\\Desktop\\python\\01_class.ipynb Cell 7\u001b[0m line \u001b[0;36m1\n\u001b[1;32m----> <a href='vscode-notebook-cell:/c%3A/Users/Fattani/Desktop/python/01_class.ipynb#W4sZmlsZQ%3D%3D?line=0'>1</a>\u001b[0m num1 \u001b[39m=\u001b[39m \u001b[39m\"\u001b[39;49m\u001b[39mabc\u001b[39;49m\u001b[39m\"\u001b[39;49m\n\u001b[0;32m      <a href='vscode-notebook-cell:/c%3A/Users/Fattani/Desktop/python/01_class.ipynb#W4sZmlsZQ%3D%3D?line=1'>2</a>\u001b[0m \u001b[39mprint\u001b[39m(\u001b[39mtype\u001b[39m(num1))\n\u001b[0;32m      <a href='vscode-notebook-cell:/c%3A/Users/Fattani/Desktop/python/01_class.ipynb#W4sZmlsZQ%3D%3D?line=2'>3</a>\u001b[0m \u001b[39mprint\u001b[39m(\u001b[39mid\u001b[39m(num1))\n",
      "\u001b[1;32mc:\\Users\\Fattani\\Desktop\\python\\01_class.ipynb Cell 7\u001b[0m line \u001b[0;36m1\n\u001b[1;32m----> <a href='vscode-notebook-cell:/c%3A/Users/Fattani/Desktop/python/01_class.ipynb#W4sZmlsZQ%3D%3D?line=0'>1</a>\u001b[0m num1 \u001b[39m=\u001b[39m \u001b[39m\"\u001b[39;49m\u001b[39mabc\u001b[39;49m\u001b[39m\"\u001b[39;49m\n\u001b[0;32m      <a href='vscode-notebook-cell:/c%3A/Users/Fattani/Desktop/python/01_class.ipynb#W4sZmlsZQ%3D%3D?line=1'>2</a>\u001b[0m \u001b[39mprint\u001b[39m(\u001b[39mtype\u001b[39m(num1))\n\u001b[0;32m      <a href='vscode-notebook-cell:/c%3A/Users/Fattani/Desktop/python/01_class.ipynb#W4sZmlsZQ%3D%3D?line=2'>3</a>\u001b[0m \u001b[39mprint\u001b[39m(\u001b[39mid\u001b[39m(num1))\n",
      "File \u001b[1;32m_pydevd_bundle/pydevd_cython.pyx:1457\u001b[0m, in \u001b[0;36m_pydevd_bundle.pydevd_cython.SafeCallWrapper.__call__\u001b[1;34m()\u001b[0m\n",
      "File \u001b[1;32m_pydevd_bundle/pydevd_cython.pyx:701\u001b[0m, in \u001b[0;36m_pydevd_bundle.pydevd_cython.PyDBFrame.trace_dispatch\u001b[1;34m()\u001b[0m\n",
      "File \u001b[1;32m_pydevd_bundle/pydevd_cython.pyx:1152\u001b[0m, in \u001b[0;36m_pydevd_bundle.pydevd_cython.PyDBFrame.trace_dispatch\u001b[1;34m()\u001b[0m\n",
      "File \u001b[1;32m_pydevd_bundle/pydevd_cython.pyx:1135\u001b[0m, in \u001b[0;36m_pydevd_bundle.pydevd_cython.PyDBFrame.trace_dispatch\u001b[1;34m()\u001b[0m\n",
      "File \u001b[1;32m_pydevd_bundle/pydevd_cython.pyx:312\u001b[0m, in \u001b[0;36m_pydevd_bundle.pydevd_cython.PyDBFrame.do_wait_suspend\u001b[1;34m()\u001b[0m\n",
      "File \u001b[1;32m~\\AppData\\Local\\Packages\\PythonSoftwareFoundation.Python.3.11_qbz5n2kfra8p0\\LocalCache\\local-packages\\Python311\\site-packages\\debugpy\\_vendored\\pydevd\\pydevd.py:2070\u001b[0m, in \u001b[0;36mPyDB.do_wait_suspend\u001b[1;34m(self, thread, frame, event, arg, exception_type)\u001b[0m\n\u001b[0;32m   2067\u001b[0m             from_this_thread\u001b[39m.\u001b[39mappend(frame_custom_thread_id)\n\u001b[0;32m   2069\u001b[0m     \u001b[39mwith\u001b[39;00m \u001b[39mself\u001b[39m\u001b[39m.\u001b[39m_threads_suspended_single_notification\u001b[39m.\u001b[39mnotify_thread_suspended(thread_id, thread, stop_reason):\n\u001b[1;32m-> 2070\u001b[0m         keep_suspended \u001b[39m=\u001b[39m \u001b[39mself\u001b[39;49m\u001b[39m.\u001b[39;49m_do_wait_suspend(thread, frame, event, arg, suspend_type, from_this_thread, frames_tracker)\n\u001b[0;32m   2072\u001b[0m frames_list \u001b[39m=\u001b[39m \u001b[39mNone\u001b[39;00m\n\u001b[0;32m   2074\u001b[0m \u001b[39mif\u001b[39;00m keep_suspended:\n\u001b[0;32m   2075\u001b[0m     \u001b[39m# This means that we should pause again after a set next statement.\u001b[39;00m\n",
      "File \u001b[1;32m~\\AppData\\Local\\Packages\\PythonSoftwareFoundation.Python.3.11_qbz5n2kfra8p0\\LocalCache\\local-packages\\Python311\\site-packages\\debugpy\\_vendored\\pydevd\\pydevd.py:2106\u001b[0m, in \u001b[0;36mPyDB._do_wait_suspend\u001b[1;34m(self, thread, frame, event, arg, suspend_type, from_this_thread, frames_tracker)\u001b[0m\n\u001b[0;32m   2103\u001b[0m         \u001b[39mself\u001b[39m\u001b[39m.\u001b[39m_call_input_hook()\n\u001b[0;32m   2105\u001b[0m     \u001b[39mself\u001b[39m\u001b[39m.\u001b[39mprocess_internal_commands()\n\u001b[1;32m-> 2106\u001b[0m     time\u001b[39m.\u001b[39msleep(\u001b[39m0.01\u001b[39m)\n\u001b[0;32m   2108\u001b[0m \u001b[39mself\u001b[39m\u001b[39m.\u001b[39mcancel_async_evaluation(get_current_thread_id(thread), \u001b[39mstr\u001b[39m(\u001b[39mid\u001b[39m(frame)))\n\u001b[0;32m   2110\u001b[0m \u001b[39m# process any stepping instructions\u001b[39;00m\n",
      "\u001b[1;31mKeyboardInterrupt\u001b[0m: "
     ]
    }
   ],
   "source": [
    "num1 = \"abc\"\n",
    "print(type(num1))\n",
    "print(id(num1))\n",
    "print(num1)\n",
    "\n",
    "num1:bool = True\n",
    "print(type(num1))\n",
    "print(id(num1))\n",
    "print(num1)\n",
    "\n",
    "\n",
    "num1:list = [1,2,3]\n",
    "print(type(num1))\n",
    "print(id(num1))\n",
    "print(num1)\n",
    "\n",
    "from typing import List\n",
    "num1:List[str] = [1,2,3]\n",
    "print(type(num1))\n",
    "print(id(num1))\n",
    "print(num1)"
   ]
  },
  {
   "cell_type": "code",
   "execution_count": null,
   "metadata": {},
   "outputs": [],
   "source": [
    "from typing import List\n",
    "num1:set[int] = {1,2,3}\n",
    "print(type(num1))\n",
    "print(id(num1))\n",
    "print(num1)\n",
    "\n",
    "\n",
    "from typing import List\n",
    "num1:tuple[int] = (1,2,3,2,2,2,2,2)\n",
    "print(type(num1))\n",
    "print(id(num1))\n",
    "print(num1)\n",
    "\n",
    "\n",
    "\n",
    "from typing import Dict\n",
    "num1:Dict[str,str] = {\n",
    "    \"name\":\"Qasim\",\n",
    "    'age':30\n",
    "\n",
    "}\n",
    "print(type(num1))\n",
    "print(id(num1))\n",
    "print(num1)"
   ]
  },
  {
   "cell_type": "code",
   "execution_count": null,
   "metadata": {},
   "outputs": [],
   "source": [
    "from typing import Dict\n",
    "num1:Dict[str,str] = {\n",
    "    \"name\":\"Qasim\",\n",
    "    'age':'30'\n",
    "\n",
    "}\n",
    "print(type(num1))\n",
    "print(id(num1))\n",
    "print(num1)"
   ]
  },
  {
   "cell_type": "code",
   "execution_count": null,
   "metadata": {},
   "outputs": [],
   "source": [
    "x:tuple[int,str,float] =(3,\"yes\",7.5)\n",
    "x \n",
    "# tuple is immutible value update nh krsakty"
   ]
  },
  {
   "cell_type": "code",
   "execution_count": null,
   "metadata": {},
   "outputs": [],
   "source": [
    "print(\"fname\")"
   ]
  },
  {
   "cell_type": "code",
   "execution_count": null,
   "metadata": {},
   "outputs": [],
   "source": [
    "a:str= 'Pakistan'\n",
    "print(type(a))\n",
    "print(a)\n",
    "\n",
    "\n",
    "# \\ multiline string\n",
    "a:str= \"Pakistan\"\\\n",
    "\"Hello\"\\\n",
    "\"we are pakistani\"\n",
    "print(type(a))\n",
    "print(a)\n",
    "\n",
    "\n",
    "#  multiline string boundry \n",
    "\n",
    "a:str= \"\"\"Pakistan\n",
    "Hello\n",
    "we are pakistani\"\"\"\n",
    "print(type(a))\n",
    "print(a)\n",
    "\n",
    "\n",
    "a:str= '''Pakistan\n",
    "Hello\n",
    "we are pakistani'''\n",
    "print(type(a))\n",
    "print(a)"
   ]
  },
  {
   "cell_type": "code",
   "execution_count": null,
   "metadata": {},
   "outputs": [],
   "source": [
    "# concatenation as a string\n",
    "# \"One of Python's strengths\" is its diverse community.\n",
    "#special chracter\n",
    "\"One of Python's strengths \\\" is its diverse community.\""
   ]
  },
  {
   "cell_type": "code",
   "execution_count": null,
   "metadata": {},
   "outputs": [],
   "source": [
    "# method properties object ispe metter krta h\n",
    "# action perfoam  krsakty hain method kehlatay hain\n",
    "a:str=\"Pakistan\"\n",
    "dir(a)"
   ]
  },
  {
   "cell_type": "code",
   "execution_count": null,
   "metadata": {},
   "outputs": [],
   "source": [
    "a:str =\"PaKistan ZinDaBad\"\n",
    "print(a.title())"
   ]
  },
  {
   "cell_type": "code",
   "execution_count": null,
   "metadata": {},
   "outputs": [],
   "source": [
    "name:str= \"PaKistan ZinDaBad\"\n",
    "print(name.upper())\n",
    "print(name.lower())"
   ]
  },
  {
   "cell_type": "code",
   "execution_count": 7,
   "metadata": {},
   "outputs": [
    {
     "name": "stdout",
     "output_type": "stream",
     "text": [
      "Name:Mohammad QasimAge30\n"
     ]
    }
   ],
   "source": [
    "age:int=30\n",
    "name:str=\"Mohammad Qasim\"\n",
    "education:str=\"MSDS\"\n",
    "# student_card:str = \"Name:\" + name + \"Age\" + age //int +string ki concatenation nh hote\n",
    "student_card:str = \"Name:\" + name + \"Age\" + str(age)\n",
    "print(student_card)\n",
    "\n",
    "# student_card:str=\"PIAIC Student Card\\n\"\\\n",
    "# print(\"a\"+\"b\")"
   ]
  },
  {
   "cell_type": "code",
   "execution_count": 12,
   "metadata": {},
   "outputs": [
    {
     "name": "stdout",
     "output_type": "stream",
     "text": [
      "\n",
      "PIAIC STUDENT CARD \n",
      "Name:Mohammad Qasim\n",
      "Education:MSDS\n",
      "Age:30\n"
     ]
    }
   ],
   "source": [
    "#fstring koi bhi datatype arhi ho usko qabol krlo\n",
    "age:int=30\n",
    "name:str=\"Mohammad Qasim\"\n",
    "education:str=\"MSDS\"\n",
    "\n",
    "# student_card:str = f\"\"\"\n",
    "# PIAIC STUDENT CARD \n",
    "# Name:{name}\n",
    "# Education:{education}\n",
    "# Age:{age}\"\"\"\n",
    "# print(student_card)\n",
    "\n",
    "# index ki position hai\n",
    "student_card:str = \"\"\"\n",
    "PIAIC STUDENT CARD \n",
    "Name:{a}\n",
    "Education:{b}\n",
    "Age:{c}\"\"\".format(a=name,b=education,c=age)\n",
    "print(student_card)\n"
   ]
  },
  {
   "cell_type": "code",
   "execution_count": null,
   "metadata": {},
   "outputs": [],
   "source": [
    "\"Pakistan %d Helloworld %s\" % (20,\"Qasim\")"
   ]
  },
  {
   "cell_type": "code",
   "execution_count": 13,
   "metadata": {},
   "outputs": [
    {
     "name": "stdout",
     "output_type": "stream",
     "text": [
      "\n",
      "PIAIC STUDENT CARD \n",
      "Name:Mohammad Qasim\n",
      "Education:MSDS\n",
      "Age:30\n",
      "16\n"
     ]
    }
   ],
   "source": [
    "age:int=30\n",
    "name:str=\"Mohammad Qasim\"\n",
    "education:str=\"MSDS\"\n",
    "\n",
    "student_card:str = f\"\"\"\n",
    "PIAIC STUDENT CARD \n",
    "Name:{name}\n",
    "Education:{education}\n",
    "Age:{age}\n",
    "{7+9+0}\"\"\"\n",
    "print(student_card)"
   ]
  },
  {
   "cell_type": "code",
   "execution_count": 14,
   "metadata": {},
   "outputs": [
    {
     "name": "stdout",
     "output_type": "stream",
     "text": [
      "Pakistan\n",
      "helloworld\n"
     ]
    }
   ],
   "source": [
    "exec(\"print('Pakistan');print('helloworld')\")"
   ]
  },
  {
   "cell_type": "code",
   "execution_count": null,
   "metadata": {},
   "outputs": [],
   "source": [
    "# tab\n",
    "print(\"\\tPython\")"
   ]
  },
  {
   "cell_type": "code",
   "execution_count": 15,
   "metadata": {},
   "outputs": [
    {
     "name": "stdout",
     "output_type": "stream",
     "text": [
      "Languages:\n",
      "Python\n",
      "C\n",
      "JavaScript\n"
     ]
    }
   ],
   "source": [
    "print(\"Languages:\\nPython\\nC\\nJavaScript\")\n"
   ]
  },
  {
   "cell_type": "code",
   "execution_count": 16,
   "metadata": {},
   "outputs": [
    {
     "data": {
      "text/plain": [
       "'         Muhammad Qasim        '"
      ]
     },
     "execution_count": 16,
     "metadata": {},
     "output_type": "execute_result"
    }
   ],
   "source": [
    "name:str = \"         Muhammad Qasim        \"\n",
    "name"
   ]
  },
  {
   "cell_type": "code",
   "execution_count": 18,
   "metadata": {},
   "outputs": [
    {
     "data": {
      "text/plain": [
       "'Muhammad Qasim'"
      ]
     },
     "execution_count": 18,
     "metadata": {},
     "output_type": "execute_result"
    }
   ],
   "source": [
    "name:str = \"         Muhammad Qasim        \"\n",
    "name.lstrip()\n",
    "name:str = \"         Muhammad Qasim        \"\n",
    "name.rstrip()\n",
    "name:str = \"         Muhammad Qasim        \"\n",
    "name.strip()"
   ]
  },
  {
   "cell_type": "code",
   "execution_count": null,
   "metadata": {},
   "outputs": [],
   "source": [
    "nostarch_url = 'https://nostarch.com'\n",
    "nostarch_url.removeprefix('https://')"
   ]
  },
  {
   "cell_type": "code",
   "execution_count": null,
   "metadata": {},
   "outputs": [],
   "source": []
  }
 ],
 "metadata": {
  "kernelspec": {
   "display_name": "Python 3",
   "language": "python",
   "name": "python3"
  },
  "language_info": {
   "codemirror_mode": {
    "name": "ipython",
    "version": 3
   },
   "file_extension": ".py",
   "mimetype": "text/x-python",
   "name": "python",
   "nbconvert_exporter": "python",
   "pygments_lexer": "ipython3",
   "version": "3.11.5"
  },
  "orig_nbformat": 4
 },
 "nbformat": 4,
 "nbformat_minor": 2
}
